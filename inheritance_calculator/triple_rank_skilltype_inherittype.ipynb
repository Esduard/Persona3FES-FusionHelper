{
 "cells": [
  {
   "cell_type": "code",
   "execution_count": 11,
   "metadata": {},
   "outputs": [
    {
     "name": "stdout",
     "output_type": "stream",
     "text": [
      "['ALL', 'SLASH', 'STRIKE', 'PIERCE', 'FIRE', 'ICE', 'ELECTRICITY', 'WIND', 'LIGHT', 'DARK', 'LIGHT & DARK', 'RECOVERY', 'BAD STATUS']\n"
     ]
    }
   ],
   "source": [
    "import pandas as pd\n",
    "\n",
    "inheritance_df = pd.read_csv('/home/eduardo/Documents/Persona3/AutoTelos/inheritance_calculator/inheritance.csv')\n",
    "\n",
    "# cast inheritance_df['Inheritance Type'] to list\n",
    "inheritance_type = inheritance_df['Inheritance Type'].tolist()\n",
    "\n",
    "print(inheritance_type)"
   ]
  },
  {
   "cell_type": "code",
   "execution_count": 12,
   "metadata": {},
   "outputs": [
    {
     "name": "stdout",
     "output_type": "stream",
     "text": [
      "[1, 2, 3, 4, 5, 6, 7, 8, 9]\n"
     ]
    }
   ],
   "source": [
    "import pandas as pd\n",
    "skills_df = pd.read_csv(\"/home/eduardo/Documents/Persona3/AutoTelos/skills_list/skills.csv\")\n",
    "\n",
    "# get all unique values in the 'rank' column excluidng the value '99'\n",
    "\n",
    "all_rank_values = list(set(skills_df['rank']) - {99})\n",
    "\n",
    "print(all_rank_values)"
   ]
  },
  {
   "cell_type": "code",
   "execution_count": 13,
   "metadata": {},
   "outputs": [
    {
     "name": "stdout",
     "output_type": "stream",
     "text": [
      "['Passive', 'Slash', 'Light', 'Dark', 'Bad Status', 'Ice', 'Elec', 'Enhance', 'Pierce', 'Fire', 'Recovery', 'Wind', 'Strike', 'Special', 'Almighty']\n"
     ]
    }
   ],
   "source": [
    "# get all unique values in the 'rank' column excluidng the value '99'\n",
    "\n",
    "all_skilltype_values = list(set(skills_df['type']))\n",
    "\n",
    "print(all_skilltype_values)"
   ]
  },
  {
   "cell_type": "code",
   "execution_count": 27,
   "metadata": {},
   "outputs": [
    {
     "name": "stdout",
     "output_type": "stream",
     "text": [
      "1755\n"
     ]
    }
   ],
   "source": [
    "# create a dataframe with 3 dimensions: rank, skilltype, and inheritance_type\n",
    "# Create a MultiIndex\n",
    "combinations_dict = {}\n",
    "\n",
    "for el1 in inheritance_type:\n",
    "    for el2 in all_rank_values:\n",
    "        for el3 in all_skilltype_values:\n",
    "            combinations_dict[str((el1, el2, el3))] = 0\n",
    "\n",
    "print(len(combinations_dict))\n",
    "\n"
   ]
  },
  {
   "cell_type": "code",
   "execution_count": 28,
   "metadata": {},
   "outputs": [],
   "source": [
    "# convert combinations_dict to json file\n",
    "import json\n",
    "\n",
    "with open('combinations.json', 'w') as fp:\n",
    "    json.dump(combinations_dict, fp, indent=4)\n",
    "\n"
   ]
  }
 ],
 "metadata": {
  "kernelspec": {
   "display_name": "Python 3",
   "language": "python",
   "name": "python3"
  },
  "language_info": {
   "codemirror_mode": {
    "name": "ipython",
    "version": 3
   },
   "file_extension": ".py",
   "mimetype": "text/x-python",
   "name": "python",
   "nbconvert_exporter": "python",
   "pygments_lexer": "ipython3",
   "version": "3.10.12"
  }
 },
 "nbformat": 4,
 "nbformat_minor": 2
}
