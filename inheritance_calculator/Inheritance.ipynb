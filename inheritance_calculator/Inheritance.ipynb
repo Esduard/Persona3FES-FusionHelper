{
 "cells": [
  {
   "cell_type": "code",
   "execution_count": 1,
   "metadata": {},
   "outputs": [
    {
     "name": "stdout",
     "output_type": "stream",
     "text": [
      "   Slash  Strike  Pierce  Fire  Ice  Elec  Wind  Light  Dark  Recovery  \\\n",
      "0    1.0     1.0     1.0   1.0  1.0   1.0   1.0    1.0   1.0       1.0   \n",
      "\n",
      "   Enhance  Bad Status  Special  Almighty  Passive Inheritance Type  \n",
      "0      1.0         1.0      1.0       1.0      1.0              ALL  \n"
     ]
    }
   ],
   "source": [
    "import pandas as pd\n",
    "\n",
    "# Skill Types as column names\n",
    "columns = [\"Slash\", \"Strike\", \"Pierce\", \"Fire\", \"Ice\", \"Elec\", \"Wind\", \"Light\", \"Dark\",\n",
    "           \"Recovery\", \"Enhance\", \"Bad Status\", \"Special\", \"Almighty\", \"Passive\"]\n",
    "\n",
    "# Inheritance Type\n",
    "inheritance_type = [\"ALL\"]  # This will be the same for all rows, but it's in a list to match dimensions\n",
    "\n",
    "# PrR values, assuming \"-\" should be treated as 0, but your data only has 1.0 values\n",
    "pr_values = [1.0 for _ in columns]  # Replace with 0 where necessary\n",
    "\n",
    "# Creating a DataFrame with a single row of data, expanding 'pr_values' across the row\n",
    "df = pd.DataFrame([pr_values], columns=columns)\n",
    "\n",
    "# Adding the \"Inheritance Type\" column\n",
    "df['Inheritance Type'] = inheritance_type\n",
    "\n",
    "print(df)"
   ]
  },
  {
   "cell_type": "code",
   "execution_count": null,
   "metadata": {},
   "outputs": [],
   "source": [
    "# New data for the rows\n",
    "new_data = [\n",
    "    {\"Inheritance Type\": \"SLASH\", \"Slash\": 8.0, \"Strike\": 1.0, \"Pierce\": 1.0, \"Fire\": 0, \"Ice\": 0, \"Elec\": 0, \"Wind\": 0, \"Light\": 0, \"Dark\": 0, \"Recovery\": 0.2, \"Enhance\": 0.2, \"Bad Status\": 0, \"Special\": 1.0, \"Almighty\": 0.2, \"Passive\": 1.0},\n",
    "    {\"Inheritance Type\": \"STRIKE\", \"Slash\": 1.0, \"Strike\": 8.0, \"Pierce\": 1.0, \"Fire\": 0, \"Ice\": 0, \"Elec\": 0, \"Wind\": 0, \"Light\": 0, \"Dark\": 0, \"Recovery\": 0.2, \"Enhance\": 0.2, \"Bad Status\": 0, \"Special\": 1.0, \"Almighty\": 0.2, \"Passive\": 1.0},\n",
    "    {\"Inheritance Type\": \"PIERCE\", \"Slash\": 1.0, \"Strike\": 1.0, \"Pierce\": 8.0, \"Fire\": 0, \"Ice\": 0, \"Elec\": 0, \"Wind\": 0, \"Light\": 0, \"Dark\": 0, \"Recovery\": 0.2, \"Enhance\": 0.2, \"Bad Status\": 0, \"Special\": 1.0, \"Almighty\": 0.2, \"Passive\": 1.0},\n",
    "    {\"Inheritance Type\": \"FIRE\", \"Slash\": 0.2, \"Strike\": 0.2, \"Pierce\": 0.2, \"Fire\": 8.0, \"Ice\": 0, \"Elec\": 0, \"Wind\": 0, \"Light\": 1.0, \"Dark\": 1.0, \"Recovery\": 1.0, \"Enhance\": 1.0, \"Bad Status\": 1.0, \"Special\": 1.0, \"Almighty\": 0.2, \"Passive\": 1.0},\n",
    "    {\"Inheritance Type\": \"ICE\", \"Slash\": 0.2, \"Strike\": 0.2, \"Pierce\": 0.2, \"Fire\": 0, \"Ice\": 8.0, \"Elec\": 0, \"Wind\": 0, \"Light\": 1.0, \"Dark\": 1.0, \"Recovery\": 1.0, \"Enhance\": 1.0, \"Bad Status\": 1.0, \"Special\": 1.0, \"Almighty\": 0.2, \"Passive\": 1.0},\n",
    "    {\"Inheritance Type\": \"ELECTRICITY\", \"Slash\": 0.2, \"Strike\": 0.2, \"Pierce\": 0.2, \"Fire\": 0, \"Ice\": 0, \"Elec\": 8.0, \"Wind\": 0, \"Light\": 1.0, \"Dark\": 1.0, \"Recovery\": 1.0, \"Enhance\": 1.0, \"Bad Status\": 1.0, \"Special\": 1.0, \"Almighty\": 0.2, \"Passive\": 1.0},\n",
    "    {\"Inheritance Type\": \"WIND\", \"Slash\": 0.2, \"Strike\": 0.2, \"Pierce\": 0.2, \"Fire\": 0, \"Ice\": 0, \"Elec\": 0, \"Wind\": 8.0, \"Light\": 1.0, \"Dark\": 1.0, \"Recovery\": 1.0, \"Enhance\": 1.0, \"Bad Status\": 1.0, \"Special\": 1.0, \"Almighty\": 0.2, \"Passive\": 1.0},\n",
    "    {\"Inheritance Type\": \"LIGHT\", \"Slash\": 0, \"Strike\": 0, \"Pierce\": 0, \"Fire\": 0.2, \"Ice\": 0.2, \"Elec\": 0.2, \"Wind\": 0.2, \"Light\": 8.0, \"Dark\": 0, \"Recovery\": 1.0, \"Enhance\": 1.0, \"Bad Status\": 0, \"Special\": 1.0, \"Almighty\": 0.2, \"Passive\": 1.0},\n",
    "    {\"Inheritance Type\": \"DARK\", \"Slash\": 0.2, \"Strike\": 0.2, \"Pierce\": 0.2, \"Fire\": 0.2, \"Ice\": 0.2, \"Elec\": 0.2, \"Wind\": 0.2, \"Light\": 0, \"Dark\": 8.0, \"Recovery\": 0, \"Enhance\": 0, \"Bad Status\": 1.0, \"Special\": 1.0, \"Almighty\": 0.2, \"Passive\": 1.0},\n",
    "    {\"Inheritance Type\": \"LIGHT & DARK\", \"Slash\": 0, \"Strike\": 0, \"Pierce\": 0, \"Fire\": 0.2, \"Ice\": 0.2, \"Elec\": 0.2, \"Wind\": 0.2, \"Light\": 3.8, \"Dark\": 3.8, \"Recovery\": 0.2, \"Enhance\": 0.2, \"Bad Status\": 0.2, \"Special\": 1.0, \"Almighty\": 0.2, \"Passive\": 1.0},\n",
    "    {\"Inheritance Type\": \"RECOVERY\", \"Slash\": 0, \"Strike\": 0, \"Pierce\": 0, \"Fire\": 1.0, \"Ice\": 1.0, \"Elec\": 1.0, \"Wind\": 1.0, \"Light\": 0.2, \"Dark\": 0.2, \"Recovery\": 8.0, \"Enhance\": 3.8, \"Bad Status\": 0.2, \"Special\": 1.0, \"Almighty\": 1.0, \"Passive\": 1.0},\n",
    "    {\"Inheritance Type\": \"BAD STATUS\", \"Slash\": 0, \"Strike\": 0, \"Pierce\": 0, \"Fire\": 0.2, \"Ice\": 0.2, \"Elec\": 0.2, \"Wind\": 0.2, \"Light\": 0, \"Dark\": 1.0, \"Recovery\": 0, \"Enhance\": 1.0, \"Bad Status\": 3.8, \"Special\": 1.0, \"Almighty\": 0.2, \"Passive\": 1.0},\n",
    "]\n",
    "\n",
    "# Assuming 'df' is your existing DataFrame\n",
    "# Append each new row to the DataFrame\n",
    "for row in new_data:\n",
    "    df = df.append(row, ignore_index=True)\n",
    "\n",
    "print(df)\n"
   ]
  },
  {
   "cell_type": "code",
   "execution_count": 3,
   "metadata": {},
   "outputs": [
    {
     "name": "stdout",
     "output_type": "stream",
     "text": [
      "             skill     type                                             learns\n",
      "0           Cleave    Slash     Hermes, Nekomata, Chimera, Archangel, Valkyrie\n",
      "1      Power Slash    Slash                           Valkyrie, Gurr, Rakshasa\n",
      "2         Getsu-ei    Slash  Rakshasa, Ares, Take-Mikazuchi, Orthrus, Hanum...\n",
      "3           Zan-ei    Slash  Oberon, Ares, Titan, Pale Rider, Power, Jikoku...\n",
      "4       Gale Slash    Slash             Rakshasa, Ghoul, Shiisaa, Flauros, Ose\n",
      "..             ...      ...                                                ...\n",
      "275  Full Analysis  Passive                                              Lucia\n",
      "276   Healing Wave  Passive                                              Lucia\n",
      "277         Oracle  Passive                                              Lucia\n",
      "278   Support Scan  Passive                                              Lucia\n",
      "279      Third Eye  Passive                                              Lucia\n",
      "\n",
      "[280 rows x 3 columns]\n"
     ]
    }
   ],
   "source": [
    "# open dataframe in '/home/eduardo/Documents/Persona3/AutoTelos/skills_list/skills.csv'\n",
    "import pandas as pd\n",
    "\n",
    "# Define the file path\n",
    "file_path = '/home/eduardo/Documents/Persona3/AutoTelos/skills_list/skills.csv'\n",
    "\n",
    "# Read the CSV file into a DataFrame\n",
    "skills_df = pd.read_csv(file_path)\n",
    "\n",
    "# Print the DataFrame\n",
    "print(skills_df)\n"
   ]
  },
  {
   "cell_type": "code",
   "execution_count": 4,
   "metadata": {},
   "outputs": [
    {
     "name": "stdout",
     "output_type": "stream",
     "text": [
      "['Slash' 'Strike' 'Pierce' 'Fire' 'Ice' 'Elec' 'Wind' 'Light' 'Dark'\n",
      " 'Almighty' 'Bad Status' 'Recovery' 'Enhance' 'Special' 'Passive']\n"
     ]
    }
   ],
   "source": [
    "# Get unique entries of 'type' column\n",
    "unique_types = skills_df['type'].unique()\n",
    "\n",
    "# Print the unique entries\n",
    "print(unique_types)"
   ]
  },
  {
   "cell_type": "code",
   "execution_count": 5,
   "metadata": {},
   "outputs": [
    {
     "name": "stdout",
     "output_type": "stream",
     "text": [
      "['Slash', 'Strike', 'Pierce', 'Fire', 'Ice', 'Elec', 'Wind', 'Light', 'Dark', 'Recovery', 'Enhance', 'Bad Status', 'Special', 'Almighty', 'Passive']\n"
     ]
    }
   ],
   "source": [
    "# Get all column names except 'Inheritance Type'\n",
    "columns_except_inheritance = [col for col in df.columns if col != 'Inheritance Type']\n",
    "\n",
    "# Print the column names\n",
    "print(columns_except_inheritance)"
   ]
  },
  {
   "cell_type": "code",
   "execution_count": 6,
   "metadata": {},
   "outputs": [],
   "source": [
    "# save df to csv\n",
    "df.to_csv('/home/eduardo/Documents/Persona3/AutoTelos/inheritance_calculator/inheritance.csv', index=False)"
   ]
  },
  {
   "cell_type": "code",
   "execution_count": 7,
   "metadata": {},
   "outputs": [],
   "source": [
    "import pandas as pd\n",
    "\n",
    "# Persona type\n",
    "persona_type = \"ALL\"\n",
    "\n",
    "# List of personas\n",
    "personas = [\"Slime\", \"Legion\", \"Black Frost\", \"Ose\", \"Decarabia\", \"Loki\", \"Susano-o\", \"Orpheus Telos\"]\n",
    "\n",
    "# Creating a DataFrame with the provided data\n",
    "df_personas = pd.DataFrame({\n",
    "    \"Type\": [persona_type] * len(personas),  # Replicate the persona type for each entry\n",
    "    \"Persona\": personas\n",
    "})"
   ]
  },
  {
   "cell_type": "code",
   "execution_count": 8,
   "metadata": {},
   "outputs": [
    {
     "name": "stderr",
     "output_type": "stream",
     "text": [
      "/tmp/ipykernel_31748/747997253.py:25: FutureWarning: The frame.append method is deprecated and will be removed from pandas in a future version. Use pandas.concat instead.\n",
      "  df_personas = df_personas.append([{\"Type\": \"ALL\", \"Persona\": persona} for persona in personas], ignore_index=True)\n",
      "/tmp/ipykernel_31748/747997253.py:28: FutureWarning: The frame.append method is deprecated and will be removed from pandas in a future version. Use pandas.concat instead.\n",
      "  df_personas = df_personas.append([{\"Type\": \"SLASH\", \"Persona\": persona} for persona in slash_personas], ignore_index=True)\n",
      "/tmp/ipykernel_31748/747997253.py:31: FutureWarning: The frame.append method is deprecated and will be removed from pandas in a future version. Use pandas.concat instead.\n",
      "  df_personas = df_personas.append([{\"Type\": \"STRIKE\", \"Persona\": persona} for persona in strike_personas], ignore_index=True)\n",
      "/tmp/ipykernel_31748/747997253.py:34: FutureWarning: The frame.append method is deprecated and will be removed from pandas in a future version. Use pandas.concat instead.\n",
      "  df_personas = df_personas.append([{\"Type\": \"PIERCE\", \"Persona\": persona} for persona in pierce_personas], ignore_index=True)\n"
     ]
    },
    {
     "data": {
      "text/html": [
       "<div>\n",
       "<style scoped>\n",
       "    .dataframe tbody tr th:only-of-type {\n",
       "        vertical-align: middle;\n",
       "    }\n",
       "\n",
       "    .dataframe tbody tr th {\n",
       "        vertical-align: top;\n",
       "    }\n",
       "\n",
       "    .dataframe thead th {\n",
       "        text-align: right;\n",
       "    }\n",
       "</style>\n",
       "<table border=\"1\" class=\"dataframe\">\n",
       "  <thead>\n",
       "    <tr style=\"text-align: right;\">\n",
       "      <th></th>\n",
       "      <th>Type</th>\n",
       "      <th>Persona</th>\n",
       "    </tr>\n",
       "  </thead>\n",
       "  <tbody>\n",
       "    <tr>\n",
       "      <th>41</th>\n",
       "      <td>PIERCE</td>\n",
       "      <td>Cu Chulainn</td>\n",
       "    </tr>\n",
       "    <tr>\n",
       "      <th>42</th>\n",
       "      <td>PIERCE</td>\n",
       "      <td>Seiten Taisei</td>\n",
       "    </tr>\n",
       "    <tr>\n",
       "      <th>43</th>\n",
       "      <td>PIERCE</td>\n",
       "      <td>Mara</td>\n",
       "    </tr>\n",
       "    <tr>\n",
       "      <th>44</th>\n",
       "      <td>PIERCE</td>\n",
       "      <td>Chi You</td>\n",
       "    </tr>\n",
       "    <tr>\n",
       "      <th>45</th>\n",
       "      <td>PIERCE</td>\n",
       "      <td>Kartikeya</td>\n",
       "    </tr>\n",
       "  </tbody>\n",
       "</table>\n",
       "</div>"
      ],
      "text/plain": [
       "      Type        Persona\n",
       "41  PIERCE    Cu Chulainn\n",
       "42  PIERCE  Seiten Taisei\n",
       "43  PIERCE           Mara\n",
       "44  PIERCE        Chi You\n",
       "45  PIERCE      Kartikeya"
      ]
     },
     "execution_count": 8,
     "metadata": {},
     "output_type": "execute_result"
    }
   ],
   "source": [
    "# Since the user has provided the correct text, we can now accurately add the new rows to the DataFrame.\n",
    "\n",
    "# Update the lists with the correct text provided\n",
    "slash_personas = [\n",
    "    'Yaksini', 'Barong', 'Raphael', 'Chimera', 'Ares', 'Taraka', 'Valkyrie',\n",
    "    'Rakshasa', 'Titan', 'Jikokuten', 'Hanuman', 'Narasimha', 'Kali',\n",
    "    'Siegfried', 'Masakado', 'Ganesha', 'Gurr', 'Girimehkala'\n",
    "]\n",
    "\n",
    "strike_personas = [\n",
    "    'Ara Mitama', 'Zouchouten', 'Oumitsunu', 'Nata Taishi', 'Koumokuten',\n",
    "    'Melchizedek', 'Ubelluris', 'Hecatoncheires', 'Helel', 'Yamatano-orochi',\n",
    "    'Vishnu'\n",
    "]\n",
    "\n",
    "pierce_personas = [\n",
    "    'Scathach', 'Raja Naga', 'Naga', 'Eligor', 'Cu Chulainn',\n",
    "    'Seiten Taisei', 'Mara', 'Chi You', 'Kartikeya'\n",
    "]\n",
    "\n",
    "# We need to clear the previous DataFrame and start fresh\n",
    "df_personas = pd.DataFrame(columns=[\"Type\", \"Persona\"])\n",
    "\n",
    "# Add the ALL type personas from the previous step\n",
    "df_personas = df_personas.append([{\"Type\": \"ALL\", \"Persona\": persona} for persona in personas], ignore_index=True)\n",
    "\n",
    "# Add the new SLASH type personas\n",
    "df_personas = df_personas.append([{\"Type\": \"SLASH\", \"Persona\": persona} for persona in slash_personas], ignore_index=True)\n",
    "\n",
    "# Add the new STRIKE type personas\n",
    "df_personas = df_personas.append([{\"Type\": \"STRIKE\", \"Persona\": persona} for persona in strike_personas], ignore_index=True)\n",
    "\n",
    "# Add the new PIERCE type personas\n",
    "df_personas = df_personas.append([{\"Type\": \"PIERCE\", \"Persona\": persona} for persona in pierce_personas], ignore_index=True)\n",
    "\n",
    "df_personas.tail()  # Show the last few rows to confirm the addition\n"
   ]
  },
  {
   "cell_type": "code",
   "execution_count": 9,
   "metadata": {},
   "outputs": [
    {
     "name": "stderr",
     "output_type": "stream",
     "text": [
      "/tmp/ipykernel_31748/392715363.py:25: FutureWarning: The frame.append method is deprecated and will be removed from pandas in a future version. Use pandas.concat instead.\n",
      "  df_personas = df_personas.append([{\"Type\": fire_type, \"Persona\": persona} for persona in fire_personas], ignore_index=True)\n",
      "/tmp/ipykernel_31748/392715363.py:28: FutureWarning: The frame.append method is deprecated and will be removed from pandas in a future version. Use pandas.concat instead.\n",
      "  df_personas = df_personas.append([{\"Type\": ice_type, \"Persona\": persona} for persona in ice_personas], ignore_index=True)\n",
      "/tmp/ipykernel_31748/392715363.py:31: FutureWarning: The frame.append method is deprecated and will be removed from pandas in a future version. Use pandas.concat instead.\n",
      "  df_personas = df_personas.append([{\"Type\": electricity_type, \"Persona\": persona} for persona in electricity_personas], ignore_index=True)\n"
     ]
    },
    {
     "data": {
      "text/html": [
       "<div>\n",
       "<style scoped>\n",
       "    .dataframe tbody tr th:only-of-type {\n",
       "        vertical-align: middle;\n",
       "    }\n",
       "\n",
       "    .dataframe tbody tr th {\n",
       "        vertical-align: top;\n",
       "    }\n",
       "\n",
       "    .dataframe thead th {\n",
       "        text-align: right;\n",
       "    }\n",
       "</style>\n",
       "<table border=\"1\" class=\"dataframe\">\n",
       "  <thead>\n",
       "    <tr style=\"text-align: right;\">\n",
       "      <th></th>\n",
       "      <th>Type</th>\n",
       "      <th>Persona</th>\n",
       "    </tr>\n",
       "  </thead>\n",
       "  <tbody>\n",
       "    <tr>\n",
       "      <th>85</th>\n",
       "      <td>ELECTRICITY</td>\n",
       "      <td>Take-minakata</td>\n",
       "    </tr>\n",
       "    <tr>\n",
       "      <th>86</th>\n",
       "      <td>ELECTRICITY</td>\n",
       "      <td>Byakko</td>\n",
       "    </tr>\n",
       "    <tr>\n",
       "      <th>87</th>\n",
       "      <td>ELECTRICITY</td>\n",
       "      <td>Shiva</td>\n",
       "    </tr>\n",
       "    <tr>\n",
       "      <th>88</th>\n",
       "      <td>ELECTRICITY</td>\n",
       "      <td>Dionysus</td>\n",
       "    </tr>\n",
       "    <tr>\n",
       "      <th>89</th>\n",
       "      <td>ELECTRICITY</td>\n",
       "      <td>Michael</td>\n",
       "    </tr>\n",
       "  </tbody>\n",
       "</table>\n",
       "</div>"
      ],
      "text/plain": [
       "           Type        Persona\n",
       "85  ELECTRICITY  Take-minakata\n",
       "86  ELECTRICITY         Byakko\n",
       "87  ELECTRICITY          Shiva\n",
       "88  ELECTRICITY       Dionysus\n",
       "89  ELECTRICITY        Michael"
      ]
     },
     "execution_count": 9,
     "metadata": {},
     "output_type": "execute_result"
    }
   ],
   "source": [
    "# Given the new tables and types, we'll add these personas to the DataFrame\n",
    "\n",
    "# Types for the new personas\n",
    "fire_type = \"FIRE\"\n",
    "ice_type = \"ICE\"\n",
    "electricity_type = \"ELECTRICITY\"\n",
    "\n",
    "# Personas for each type\n",
    "fire_personas = [\n",
    "    'Orpheus', 'Nekomata', 'Pyro Jack', 'Hua Po', 'Sati', 'Rangda', 'Surt', 'Berith', 'Flauros',\n",
    "    'Kumbhanda', 'Orthrus', 'Hell Biker', 'Okuninushi', 'Suzaku', 'Bishamonten', 'Saturnus', 'Seth', 'Asura'\n",
    "]\n",
    "\n",
    "ice_personas = [\n",
    "    'Jack Frost', 'Apsaras', 'High Pixie', 'Sarasvati', 'Ganga', 'Parvati', 'Laksmi', 'Gabriel',\n",
    "    'Skadi', 'Forneus', 'King Frost', 'Shiisaa', 'Genbu', 'Yurlungur'\n",
    "]\n",
    "\n",
    "electricity_personas = [\n",
    "    'Oberon', 'Take-mikazuchi', 'Odin', 'Omoikane', 'Thoth', 'Hokuto Seikun', 'Thor', 'Take-minakata',\n",
    "    'Byakko', 'Shiva', 'Dionysus', 'Michael'\n",
    "]\n",
    "\n",
    "# Add the new FIRE type personas\n",
    "df_personas = df_personas.append([{\"Type\": fire_type, \"Persona\": persona} for persona in fire_personas], ignore_index=True)\n",
    "\n",
    "# Add the new ICE type personas\n",
    "df_personas = df_personas.append([{\"Type\": ice_type, \"Persona\": persona} for persona in ice_personas], ignore_index=True)\n",
    "\n",
    "# Add the new ELECTRICITY type personas\n",
    "df_personas = df_personas.append([{\"Type\": electricity_type, \"Persona\": persona} for persona in electricity_personas], ignore_index=True)\n",
    "\n",
    "df_personas.tail()  # Show the last few rows to confirm the addition\n"
   ]
  },
  {
   "cell_type": "code",
   "execution_count": 10,
   "metadata": {},
   "outputs": [
    {
     "name": "stderr",
     "output_type": "stream",
     "text": [
      "/tmp/ipykernel_31748/3584534620.py:25: FutureWarning: The frame.append method is deprecated and will be removed from pandas in a future version. Use pandas.concat instead.\n",
      "  df_personas = df_personas.append([{\"Type\": wind_type, \"Persona\": persona} for persona in wind_personas], ignore_index=True)\n",
      "/tmp/ipykernel_31748/3584534620.py:28: FutureWarning: The frame.append method is deprecated and will be removed from pandas in a future version. Use pandas.concat instead.\n",
      "  df_personas = df_personas.append([{\"Type\": light_type, \"Persona\": persona} for persona in light_personas], ignore_index=True)\n",
      "/tmp/ipykernel_31748/3584534620.py:31: FutureWarning: The frame.append method is deprecated and will be removed from pandas in a future version. Use pandas.concat instead.\n",
      "  df_personas = df_personas.append([{\"Type\": dark_type, \"Persona\": persona} for persona in dark_personas], ignore_index=True)\n"
     ]
    },
    {
     "data": {
      "text/html": [
       "<div>\n",
       "<style scoped>\n",
       "    .dataframe tbody tr th:only-of-type {\n",
       "        vertical-align: middle;\n",
       "    }\n",
       "\n",
       "    .dataframe tbody tr th {\n",
       "        vertical-align: top;\n",
       "    }\n",
       "\n",
       "    .dataframe thead th {\n",
       "        text-align: right;\n",
       "    }\n",
       "</style>\n",
       "<table border=\"1\" class=\"dataframe\">\n",
       "  <thead>\n",
       "    <tr style=\"text-align: right;\">\n",
       "      <th></th>\n",
       "      <th>Type</th>\n",
       "      <th>Persona</th>\n",
       "    </tr>\n",
       "  </thead>\n",
       "  <tbody>\n",
       "    <tr>\n",
       "      <th>129</th>\n",
       "      <td>DARK</td>\n",
       "      <td>Thanatos</td>\n",
       "    </tr>\n",
       "    <tr>\n",
       "      <th>130</th>\n",
       "      <td>DARK</td>\n",
       "      <td>Chernobog</td>\n",
       "    </tr>\n",
       "    <tr>\n",
       "      <th>131</th>\n",
       "      <td>DARK</td>\n",
       "      <td>Baal Zebul</td>\n",
       "    </tr>\n",
       "    <tr>\n",
       "      <th>132</th>\n",
       "      <td>DARK</td>\n",
       "      <td>Lucifer</td>\n",
       "    </tr>\n",
       "    <tr>\n",
       "      <th>133</th>\n",
       "      <td>DARK</td>\n",
       "      <td>Nidhoggr</td>\n",
       "    </tr>\n",
       "  </tbody>\n",
       "</table>\n",
       "</div>"
      ],
      "text/plain": [
       "     Type     Persona\n",
       "129  DARK    Thanatos\n",
       "130  DARK   Chernobog\n",
       "131  DARK  Baal Zebul\n",
       "132  DARK     Lucifer\n",
       "133  DARK    Nidhoggr"
      ]
     },
     "execution_count": 10,
     "metadata": {},
     "output_type": "execute_result"
    }
   ],
   "source": [
    "# Given the new types and personas, we'll add these personas to the DataFrame\n",
    "\n",
    "# Types for the new personas\n",
    "wind_type = \"WIND\"\n",
    "light_type = \"LIGHT\"\n",
    "dark_type = \"DARK\"\n",
    "\n",
    "# Personas for each type\n",
    "wind_personas = [\n",
    "    'Orobas', 'Angel', 'Fortuna', 'Empusa', 'Kusi Mitama', 'Clotho', 'Lachesis', 'Atropos',\n",
    "    'Norn', 'Nigi Mitama', 'Seiryuu', 'Nandi', 'Garuda', 'Quetzalcoatl', 'Jatayu', 'Suparna'\n",
    "]\n",
    "\n",
    "light_personas = [\n",
    "    'Daisoujou', 'Archangel', 'Principality', 'Power', 'Virtue', 'Dominion', 'Throne',\n",
    "    'Vasuki', 'Mithra', 'Sandalphon', 'Horus', 'Uriel', 'Atavaka', 'Metatron'\n",
    "]\n",
    "\n",
    "dark_personas = [\n",
    "    'Mother Harlot', 'Yomotsu Shikome', 'Lamia', 'Ghoul', 'Pale Rider', 'Loa', 'Samael',\n",
    "    'Mot', 'Alice', 'Thanatos', 'Chernobog', 'Baal Zebul', 'Lucifer', 'Nidhoggr'\n",
    "]\n",
    "\n",
    "# Add the new WIND type personas\n",
    "df_personas = df_personas.append([{\"Type\": wind_type, \"Persona\": persona} for persona in wind_personas], ignore_index=True)\n",
    "\n",
    "# Add the new LIGHT type personas\n",
    "df_personas = df_personas.append([{\"Type\": light_type, \"Persona\": persona} for persona in light_personas], ignore_index=True)\n",
    "\n",
    "# Add the new DARK type personas\n",
    "df_personas = df_personas.append([{\"Type\": dark_type, \"Persona\": persona} for persona in dark_personas], ignore_index=True)\n",
    "\n",
    "df_personas.tail()  # Show the last few rows to confirm the addition\n"
   ]
  },
  {
   "cell_type": "code",
   "execution_count": 11,
   "metadata": {},
   "outputs": [
    {
     "name": "stderr",
     "output_type": "stream",
     "text": [
      "/tmp/ipykernel_31748/3954547680.py:24: FutureWarning: The frame.append method is deprecated and will be removed from pandas in a future version. Use pandas.concat instead.\n",
      "  df_personas = df_personas.append([{\"Type\": light_dark_type, \"Persona\": persona} for persona in light_dark_personas], ignore_index=True)\n",
      "/tmp/ipykernel_31748/3954547680.py:27: FutureWarning: The frame.append method is deprecated and will be removed from pandas in a future version. Use pandas.concat instead.\n",
      "  df_personas = df_personas.append([{\"Type\": recovery_type, \"Persona\": persona} for persona in recovery_personas], ignore_index=True)\n",
      "/tmp/ipykernel_31748/3954547680.py:30: FutureWarning: The frame.append method is deprecated and will be removed from pandas in a future version. Use pandas.concat instead.\n",
      "  df_personas = df_personas.append([{\"Type\": bad_status_type, \"Persona\": persona} for persona in bad_status_personas], ignore_index=True)\n"
     ]
    },
    {
     "data": {
      "text/html": [
       "<div>\n",
       "<style scoped>\n",
       "    .dataframe tbody tr th:only-of-type {\n",
       "        vertical-align: middle;\n",
       "    }\n",
       "\n",
       "    .dataframe tbody tr th {\n",
       "        vertical-align: top;\n",
       "    }\n",
       "\n",
       "    .dataframe thead th {\n",
       "        text-align: right;\n",
       "    }\n",
       "</style>\n",
       "<table border=\"1\" class=\"dataframe\">\n",
       "  <thead>\n",
       "    <tr style=\"text-align: right;\">\n",
       "      <th></th>\n",
       "      <th>Type</th>\n",
       "      <th>Persona</th>\n",
       "    </tr>\n",
       "  </thead>\n",
       "  <tbody>\n",
       "    <tr>\n",
       "      <th>164</th>\n",
       "      <td>BAD STATUS</td>\n",
       "      <td>Pazuzu</td>\n",
       "    </tr>\n",
       "    <tr>\n",
       "      <th>165</th>\n",
       "      <td>BAD STATUS</td>\n",
       "      <td>Lilith</td>\n",
       "    </tr>\n",
       "    <tr>\n",
       "      <th>166</th>\n",
       "      <td>BAD STATUS</td>\n",
       "      <td>Abaddon</td>\n",
       "    </tr>\n",
       "    <tr>\n",
       "      <th>167</th>\n",
       "      <td>BAD STATUS</td>\n",
       "      <td>Beelzebub</td>\n",
       "    </tr>\n",
       "    <tr>\n",
       "      <th>168</th>\n",
       "      <td>BAD STATUS</td>\n",
       "      <td>Kaiwan</td>\n",
       "    </tr>\n",
       "  </tbody>\n",
       "</table>\n",
       "</div>"
      ],
      "text/plain": [
       "           Type    Persona\n",
       "164  BAD STATUS     Pazuzu\n",
       "165  BAD STATUS     Lilith\n",
       "166  BAD STATUS    Abaddon\n",
       "167  BAD STATUS  Beelzebub\n",
       "168  BAD STATUS     Kaiwan"
      ]
     },
     "execution_count": 11,
     "metadata": {},
     "output_type": "execute_result"
    }
   ],
   "source": [
    "# Given the new types and personas, we'll add these personas to the DataFrame\n",
    "\n",
    "# Types for the new personas\n",
    "light_dark_type = \"LIGHT & DARK\"\n",
    "recovery_type = \"RECOVERY\"\n",
    "bad_status_type = \"BAD STATUS\"\n",
    "\n",
    "# Personas for each type\n",
    "light_dark_personas = ['Anubis', 'Trumpeter', 'Satan', 'Messiah']\n",
    "\n",
    "recovery_personas = [\n",
    "    'Unicorn', 'Kikuri-hime', 'Leanan Sidhe', 'Hariti', 'Alilat', 'Kingu',\n",
    "    'Kohryu', 'Pixie', 'Alp', 'Queen Mab', 'Saki Mitama', 'Titania', 'Cybele',\n",
    "    'Attis', 'Yatagarasu', 'Ananta'\n",
    "]\n",
    "\n",
    "bad_status_personas = [\n",
    "    'Narcissus', 'Mothman', 'Kurama Tengu', 'Nebiros', 'Arahabaki', 'Inugami',\n",
    "    'Lilim', 'Vetala', 'Incubus', 'Succubus', 'Pazuzu', 'Lilith', 'Abaddon',\n",
    "    'Beelzebub', 'Kaiwan'\n",
    "]\n",
    "\n",
    "# Add the new LIGHT & DARK type personas\n",
    "df_personas = df_personas.append([{\"Type\": light_dark_type, \"Persona\": persona} for persona in light_dark_personas], ignore_index=True)\n",
    "\n",
    "# Add the new RECOVERY type personas\n",
    "df_personas = df_personas.append([{\"Type\": recovery_type, \"Persona\": persona} for persona in recovery_personas], ignore_index=True)\n",
    "\n",
    "# Add the new BAD STATUS type personas\n",
    "df_personas = df_personas.append([{\"Type\": bad_status_type, \"Persona\": persona} for persona in bad_status_personas], ignore_index=True)\n",
    "\n",
    "df_personas.tail()  # Show the last few rows to confirm the addition\n"
   ]
  },
  {
   "cell_type": "code",
   "execution_count": 12,
   "metadata": {},
   "outputs": [],
   "source": [
    "# make all values in 'Persona' column lowercase\n",
    "df_personas['Persona'] = df_personas['Persona'].str.lower()\n"
   ]
  },
  {
   "cell_type": "code",
   "execution_count": 13,
   "metadata": {},
   "outputs": [],
   "source": [
    "# open the dataframe 'skills_list/inheritable_skills_with_levels.csv'\n",
    "import pandas as pd\n",
    "\n",
    "# Define the file path\n",
    "file_path = '/home/eduardo/Documents/Persona3/AutoTelos/skills_list/inheritable_skills_with_levels.csv'\n",
    "\n",
    "# Read the CSV file into a DataFrame\n",
    "lower_personas_df = pd.read_csv(file_path)\n"
   ]
  },
  {
   "cell_type": "code",
   "execution_count": 14,
   "metadata": {},
   "outputs": [
    {
     "name": "stdout",
     "output_type": "stream",
     "text": [
      "[]\n"
     ]
    }
   ],
   "source": [
    "# Get unique personas in df_personas\n",
    "unique_personas_df_personas = df_personas['Persona'].unique()\n",
    "\n",
    "# Get personas that are not in lower_personas_df\n",
    "missing_personas = [persona for persona in unique_personas_df_personas if persona not in lower_personas_df['persona'].values]\n",
    "\n",
    "# Print the missing personas\n",
    "print(missing_personas)"
   ]
  },
  {
   "cell_type": "code",
   "execution_count": 15,
   "metadata": {},
   "outputs": [
    {
     "name": "stdout",
     "output_type": "stream",
     "text": [
      "[]\n"
     ]
    }
   ],
   "source": [
    "# Get unique personas in lower_personas_df\n",
    "unique_personas_lower_personas_df = lower_personas_df['persona'].unique()\n",
    "\n",
    "# Get personas that are not in df_personas\n",
    "missing_personas = [persona for persona in unique_personas_lower_personas_df if persona not in df_personas['Persona'].values]\n",
    "\n",
    "# Print the missing personas\n",
    "print(missing_personas)"
   ]
  },
  {
   "cell_type": "code",
   "execution_count": 16,
   "metadata": {},
   "outputs": [],
   "source": [
    "# save df_personas to csv\n",
    "df_personas.to_csv('/home/eduardo/Documents/Persona3/AutoTelos/inheritance_calculator/personas_inheritance.csv', index=False)"
   ]
  }
 ],
 "metadata": {
  "kernelspec": {
   "display_name": "Python 3",
   "language": "python",
   "name": "python3"
  },
  "language_info": {
   "codemirror_mode": {
    "name": "ipython",
    "version": 3
   },
   "file_extension": ".py",
   "mimetype": "text/x-python",
   "name": "python",
   "nbconvert_exporter": "python",
   "pygments_lexer": "ipython3",
   "version": "3.10.12"
  }
 },
 "nbformat": 4,
 "nbformat_minor": 2
}
