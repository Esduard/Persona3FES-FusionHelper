{
 "cells": [
  {
   "cell_type": "code",
   "execution_count": 3,
   "metadata": {},
   "outputs": [
    {
     "name": "stdout",
     "output_type": "stream",
     "text": [
      "[0.2, 1.0, 3.8, 8.0]\n"
     ]
    }
   ],
   "source": [
    "import pandas as pd\n",
    "\n",
    "inheritance_df = pd.read_csv('/home/eduardo/Documents/Persona3/AutoTelos/inheritance_calculator/inheritance.csv')\n",
    "\n",
    "# get all unique values from all the columns in the dataframe\n",
    "all_PrP_values = set()\n",
    "for column in inheritance_df:\n",
    "    all_PrP_values.update(inheritance_df[column])\n",
    "\n",
    "# keep only values of type float that are above '0.0' in 'all_values'\n",
    "all_PrP_values = [value for value in all_PrP_values if isinstance(value, float) and value > 0.0]\n",
    "\n",
    "print(all_PrP_values)"
   ]
  },
  {
   "cell_type": "code",
   "execution_count": 4,
   "metadata": {},
   "outputs": [
    {
     "name": "stdout",
     "output_type": "stream",
     "text": [
      "{1.5, 2.0, 3.0, 4.0, 4.5, 5.5, 6.5, 7.0, 8.0, 2.5, 3.5, 6.0, 5.0, 9.0, 7.5, 1.0}\n"
     ]
    }
   ],
   "source": [
    "import pandas as pd\n",
    "skills_df = pd.read_csv(\"/home/eduardo/Documents/Persona3/AutoTelos/skills_list/skills.csv\")\n",
    "\n",
    "# get all unique values in the 'rank' column excluidng the value '99'\n",
    "\n",
    "all_rank_values = set(skills_df['rank']) - {99}\n",
    "\n",
    "print(all_rank_values)"
   ]
  },
  {
   "cell_type": "code",
   "execution_count": 5,
   "metadata": {},
   "outputs": [
    {
     "data": {
      "text/html": [
       "<div>\n",
       "<style scoped>\n",
       "    .dataframe tbody tr th:only-of-type {\n",
       "        vertical-align: middle;\n",
       "    }\n",
       "\n",
       "    .dataframe tbody tr th {\n",
       "        vertical-align: top;\n",
       "    }\n",
       "\n",
       "    .dataframe thead th {\n",
       "        text-align: right;\n",
       "    }\n",
       "</style>\n",
       "<table border=\"1\" class=\"dataframe\">\n",
       "  <thead>\n",
       "    <tr style=\"text-align: right;\">\n",
       "      <th></th>\n",
       "      <th>1.5</th>\n",
       "      <th>2.0</th>\n",
       "      <th>3.0</th>\n",
       "      <th>4.0</th>\n",
       "      <th>4.5</th>\n",
       "      <th>5.5</th>\n",
       "      <th>6.5</th>\n",
       "      <th>7.0</th>\n",
       "      <th>8.0</th>\n",
       "      <th>2.5</th>\n",
       "      <th>3.5</th>\n",
       "      <th>6.0</th>\n",
       "      <th>5.0</th>\n",
       "      <th>9.0</th>\n",
       "      <th>7.5</th>\n",
       "      <th>1.0</th>\n",
       "    </tr>\n",
       "  </thead>\n",
       "  <tbody>\n",
       "    <tr>\n",
       "      <th>0.2</th>\n",
       "      <td>0</td>\n",
       "      <td>0</td>\n",
       "      <td>0</td>\n",
       "      <td>0</td>\n",
       "      <td>0</td>\n",
       "      <td>0</td>\n",
       "      <td>0</td>\n",
       "      <td>0</td>\n",
       "      <td>0</td>\n",
       "      <td>0</td>\n",
       "      <td>0</td>\n",
       "      <td>0</td>\n",
       "      <td>0</td>\n",
       "      <td>0</td>\n",
       "      <td>0</td>\n",
       "      <td>0</td>\n",
       "    </tr>\n",
       "    <tr>\n",
       "      <th>1.0</th>\n",
       "      <td>0</td>\n",
       "      <td>0</td>\n",
       "      <td>0</td>\n",
       "      <td>0</td>\n",
       "      <td>0</td>\n",
       "      <td>0</td>\n",
       "      <td>0</td>\n",
       "      <td>0</td>\n",
       "      <td>0</td>\n",
       "      <td>0</td>\n",
       "      <td>0</td>\n",
       "      <td>0</td>\n",
       "      <td>0</td>\n",
       "      <td>0</td>\n",
       "      <td>0</td>\n",
       "      <td>0</td>\n",
       "    </tr>\n",
       "    <tr>\n",
       "      <th>3.8</th>\n",
       "      <td>0</td>\n",
       "      <td>0</td>\n",
       "      <td>0</td>\n",
       "      <td>0</td>\n",
       "      <td>0</td>\n",
       "      <td>0</td>\n",
       "      <td>0</td>\n",
       "      <td>0</td>\n",
       "      <td>0</td>\n",
       "      <td>0</td>\n",
       "      <td>0</td>\n",
       "      <td>0</td>\n",
       "      <td>0</td>\n",
       "      <td>0</td>\n",
       "      <td>0</td>\n",
       "      <td>0</td>\n",
       "    </tr>\n",
       "    <tr>\n",
       "      <th>8.0</th>\n",
       "      <td>0</td>\n",
       "      <td>0</td>\n",
       "      <td>0</td>\n",
       "      <td>0</td>\n",
       "      <td>0</td>\n",
       "      <td>0</td>\n",
       "      <td>0</td>\n",
       "      <td>0</td>\n",
       "      <td>0</td>\n",
       "      <td>0</td>\n",
       "      <td>0</td>\n",
       "      <td>0</td>\n",
       "      <td>0</td>\n",
       "      <td>0</td>\n",
       "      <td>0</td>\n",
       "      <td>0</td>\n",
       "    </tr>\n",
       "  </tbody>\n",
       "</table>\n",
       "</div>"
      ],
      "text/plain": [
       "     1.5  2.0  3.0  4.0  4.5  5.5  6.5  7.0  8.0  2.5  3.5  6.0  5.0  9.0  \\\n",
       "0.2    0    0    0    0    0    0    0    0    0    0    0    0    0    0   \n",
       "1.0    0    0    0    0    0    0    0    0    0    0    0    0    0    0   \n",
       "3.8    0    0    0    0    0    0    0    0    0    0    0    0    0    0   \n",
       "8.0    0    0    0    0    0    0    0    0    0    0    0    0    0    0   \n",
       "\n",
       "     7.5  1.0  \n",
       "0.2    0    0  \n",
       "1.0    0    0  \n",
       "3.8    0    0  \n",
       "8.0    0    0  "
      ]
     },
     "execution_count": 5,
     "metadata": {},
     "output_type": "execute_result"
    }
   ],
   "source": [
    "# Create a DataFrame with set1 as rows and set2 as columns, initializing all values to 0\n",
    "df = pd.DataFrame(0, index=all_PrP_values, columns=all_rank_values)"
   ]
  }
 ],
 "metadata": {
  "kernelspec": {
   "display_name": "Python 3",
   "language": "python",
   "name": "python3"
  },
  "language_info": {
   "codemirror_mode": {
    "name": "ipython",
    "version": 3
   },
   "file_extension": ".py",
   "mimetype": "text/x-python",
   "name": "python",
   "nbconvert_exporter": "python",
   "pygments_lexer": "ipython3",
   "version": "3.10.12"
  }
 },
 "nbformat": 4,
 "nbformat_minor": 2
}
