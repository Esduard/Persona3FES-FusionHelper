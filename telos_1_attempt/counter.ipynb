{
 "cells": [
  {
   "cell_type": "code",
   "execution_count": 6,
   "metadata": {},
   "outputs": [
    {
     "name": "stdout",
     "output_type": "stream",
     "text": [
      "Mahamaon: 3\n",
      "Auto-Mataru: 1\n",
      "God's Hand: 2\n",
      "Wind Amp: 2\n",
      "Wind Boost: 1\n",
      "Apt Pupil: 1\n",
      "Megidolaon: 3\n",
      "Stagnant Air: 1\n",
      "Ghastly Wail: 1\n",
      "Tempest Slash: 1\n",
      "Megidola: 1\n",
      "Panta Rhei: 1\n",
      "Garula: 1\n",
      "Poison Arrow: 1\n",
      "1hSwd Master: 2\n",
      "Akasha Arts: 1\n",
      "Unshaken Will: 1\n",
      "Mind Charge: 2\n",
      "Growth 3: 1\n",
      "Tetrakarn: 1\n",
      "Spell Master: 2\n",
      "Vorpal Blade: 1\n",
      "Invigorate 3: 1\n",
      "Auto-Tarukaja: 1\n",
      "Auto-Sukukaja: 1\n",
      "Primal Force: 2\n",
      "Evade Wind: 1\n",
      "Growth 2: 1\n",
      "Absorb Strike: 1\n",
      "Regenerate 3: 1\n",
      "Salvation: 2\n",
      "Absorb Pierce: 1\n",
      "Enduring Soul: 1\n",
      "Victory Cry: 1\n",
      "High Counter: 1\n",
      "Morning Star: 1\n",
      "Absorb Slash: 1\n"
     ]
    }
   ],
   "source": [
    "# Open the file and read its contents\n",
    "with open('skills.txt', 'r') as f:\n",
    "    lines = f.readlines()\n",
    "\n",
    "# Remove empty lines and lines that start with '#'\n",
    "lines = [line.strip() for line in lines if line.strip() and not line.startswith('#')]\n",
    "\n",
    "# Count the occurrences of each line\n",
    "line_counts = {line: lines.count(line) for line in lines}\n",
    "\n",
    "# Print the counts\n",
    "for line, count in line_counts.items():\n",
    "    print(f'{line}: {count}')"
   ]
  },
  {
   "cell_type": "code",
   "execution_count": 7,
   "metadata": {},
   "outputs": [
    {
     "name": "stdout",
     "output_type": "stream",
     "text": [
      "Mandatory skill High Counter: 1\n",
      "Mandatory skill Unshaken Will: 1\n",
      "Mandatory skill Panta Rhei: 1\n",
      "Optional skill Wind Boost: 1\n",
      "Optional skill Wind Amp: 2\n",
      "Optional skill Spell Master: 2\n",
      "Optional skill Mind Charge: 2\n",
      "Optional skill Salvation: 2\n",
      "Mandatory skills: 3\n",
      "Optional skills: 9\n"
     ]
    }
   ],
   "source": [
    "mandatory_skills = [\n",
    "'High Counter',\n",
    "'Unshaken Will',\n",
    "'Panta Rhei',\n",
    "]\n",
    "\n",
    "optional_skills = [\n",
    "'Wind Boost',\n",
    "'Wind Amp',\n",
    "'Spell Master',\n",
    "'Mind Charge',\n",
    "'Salvation',\n",
    "]\n",
    "\n",
    "# sum the counts of the mandatory skills and print each count\n",
    "mandatory_count = 0\n",
    "for skill in mandatory_skills:\n",
    "    skill_count = line_counts[skill]\n",
    "    print(f'Mandatory skill {skill}: {skill_count}')\n",
    "    mandatory_count += skill_count\n",
    "\n",
    "# sum the counts of the optional skills and print each count\n",
    "optional_count = 0\n",
    "for skill in optional_skills:\n",
    "    skill_count = line_counts[skill]\n",
    "    print(f'Optional skill {skill}: {skill_count}')\n",
    "    optional_count += skill_count\n",
    "\n",
    "\n",
    "\n",
    "# print the results\n",
    "print(f'Mandatory skills: {mandatory_count}')\n",
    "print(f'Optional skills: {optional_count}')\n",
    "\n",
    "\n"
   ]
  },
  {
   "cell_type": "code",
   "execution_count": 8,
   "metadata": {},
   "outputs": [
    {
     "name": "stdout",
     "output_type": "stream",
     "text": [
      "5.960875418388604e-08\n",
      "0.0003994721576946706\n"
     ]
    }
   ],
   "source": [
    "import itertools\n",
    "\n",
    "\n",
    "def calculate_cumulative_sum(ammounts):\n",
    "    # Generate all permutations\n",
    "    perms = list(itertools.permutations(ammounts))\n",
    "\n",
    "    # Calculate the cumulative sum\n",
    "    cumulative_sum = 0\n",
    "    for perm in perms:\n",
    "        total_cards = 48\n",
    "        cumulative_prod = 1\n",
    "        for el in perm:\n",
    "            cumulative_prod = cumulative_prod * (el/total_cards)\n",
    "            total_cards -= el\n",
    "            \n",
    "        cumulative_sum += cumulative_prod\n",
    "\n",
    "    return cumulative_sum\n",
    "\n",
    "ammounts = [2, 2, 2, 2, 1, 1, 1, 1]\n",
    "print(calculate_cumulative_sum(ammounts))\n",
    "\n",
    "ammounts = [2, 2, 2, 2, 1, 8, 8, 8]\n",
    "print(calculate_cumulative_sum(ammounts))"
   ]
  },
  {
   "cell_type": "code",
   "execution_count": 9,
   "metadata": {},
   "outputs": [
    {
     "name": "stdout",
     "output_type": "stream",
     "text": [
      "5.959999999999999e-14 in every 10000\n",
      "1.7617023662118135e-20 in every 10000\n"
     ]
    }
   ],
   "source": [
    "def print_ratio(value):\n",
    "    # Convert the float to a string\n",
    "    value_str = str(value)\n",
    "\n",
    "    # Check if the number is in scientific notation\n",
    "    if 'e' in value_str:\n",
    "        # Convert the number to decimal form\n",
    "        value = \"{:.10f}\".format(value)\n",
    "        parts = value.split('.')\n",
    "    else:\n",
    "        # Split the string at the decimal point\n",
    "        parts = value_str.split('.')\n",
    "\n",
    "    # Calculate the ratio based on the number of decimal places\n",
    "    numerator = float('0.' + parts[1])\n",
    "    denominator = 10 ** len(parts[1])\n",
    "\n",
    "    # Adjust the ratio so the denominator is 10000\n",
    "    multiplier = 10000 / denominator\n",
    "    adjusted_numerator = numerator * multiplier\n",
    "    adjusted_denominator = int(denominator * multiplier)\n",
    "\n",
    "    # Print the ratio in the format \"n in every m\"\n",
    "    print(f'{adjusted_numerator} in every {adjusted_denominator}')\n",
    "\n",
    "\n",
    "ammounts = [2, 2, 2, 2, 1, 1, 1, 1]\n",
    "print_ratio(calculate_cumulative_sum(ammounts))\n",
    "\n",
    "ammounts = [2, 2, 2, 1, 1 , 8, 8, 8]\n",
    "print_ratio(calculate_cumulative_sum(ammounts))\n"
   ]
  },
  {
   "cell_type": "code",
   "execution_count": 16,
   "metadata": {},
   "outputs": [
    {
     "name": "stdout",
     "output_type": "stream",
     "text": [
      "required:  8 ammounts:  18\n",
      "\n",
      "required:  7 ammounts:  17\n",
      "\n",
      "required:  6 ammounts:  16\n",
      "\n",
      "required:  5 ammounts:  15\n",
      "\n",
      "required:  4 ammounts:  14\n",
      "\n",
      "required:  3 ammounts:  13\n",
      "\n",
      "required:  2 ammounts:  12\n",
      "\n",
      "required:  1 ammounts:  11\n",
      "\n",
      "2.285296402943461e-05\n"
     ]
    }
   ],
   "source": [
    "def calculate_cumulative_sum_no_repeat(ammounts):\n",
    "    required = 8\n",
    "    cumulative_prod = 1\n",
    "    while required > 0:\n",
    "        #print 'required' and 'ammounts'\n",
    "        print('required: ', required, end=' ')\n",
    "        print('ammounts: ', ammounts)\n",
    "        print('')\n",
    "        cumulative_prod = cumulative_prod * (required/ammounts)\n",
    "        required -= 1\n",
    "        ammounts -= 1\n",
    "\n",
    "    return cumulative_prod    \n",
    "\n",
    "\n",
    "ammounts = 18\n",
    "print(calculate_cumulative_sum_no_repeat(ammounts))\n",
    "\n"
   ]
  },
  {
   "cell_type": "code",
   "execution_count": 18,
   "metadata": {},
   "outputs": [
    {
     "name": "stdout",
     "output_type": "stream",
     "text": [
      "40320\n",
      "1764322560.0\n"
     ]
    }
   ],
   "source": [
    "# calculate 8 factorial\n",
    "def factorial(n):\n",
    "    if n == 1:\n",
    "        return 1\n",
    "    else:\n",
    "        return n * factorial(n-1)\n",
    "\n",
    "print(factorial(8))\n",
    "print(factorial(18) / factorial(10))\n"
   ]
  },
  {
   "cell_type": "code",
   "execution_count": 19,
   "metadata": {},
   "outputs": [
    {
     "data": {
      "text/plain": [
       "2.2852964029434616e-05"
      ]
     },
     "execution_count": 19,
     "metadata": {},
     "output_type": "execute_result"
    }
   ],
   "source": [
    "40320 / 1764322560.0"
   ]
  }
 ],
 "metadata": {
  "kernelspec": {
   "display_name": "Python 3",
   "language": "python",
   "name": "python3"
  },
  "language_info": {
   "codemirror_mode": {
    "name": "ipython",
    "version": 3
   },
   "file_extension": ".py",
   "mimetype": "text/x-python",
   "name": "python",
   "nbconvert_exporter": "python",
   "pygments_lexer": "ipython3",
   "version": "3.10.8"
  }
 },
 "nbformat": 4,
 "nbformat_minor": 2
}
