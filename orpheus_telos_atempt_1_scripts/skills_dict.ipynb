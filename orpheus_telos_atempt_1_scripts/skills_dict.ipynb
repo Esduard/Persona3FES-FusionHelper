{
 "cells": [
  {
   "cell_type": "code",
   "execution_count": 2,
   "metadata": {},
   "outputs": [
    {
     "name": "stdout",
     "output_type": "stream",
     "text": [
      "Mahamaon: 3\n",
      "Auto-Mataru: 1\n",
      "God's Hand: 2\n",
      "Wind Amp: 2\n",
      "Wind Boost: 1\n",
      "Apt Pupil: 1\n",
      "Megidolaon: 3\n",
      "Stagnant Air: 1\n",
      "Ghastly Wail: 1\n",
      "Tempst Slash: 1\n",
      "Megidola: 1\n",
      "Panta Rhei: 1\n",
      "Garula: 1\n",
      "Poison Arrow: 1\n",
      "1hSwd Master: 2\n",
      "Akasha Arts: 1\n",
      "Unshaken Will: 1\n",
      "Mind Charge: 2\n",
      "Growth 3: 1\n",
      "Tetrankarn: 1\n",
      "Spell Master: 2\n",
      "Vorpal Blade: 1\n",
      "Invigorate 3: 1\n",
      "Auto-Tarukaja: 1\n",
      "Auto-Sukukaja: 1\n",
      "Primal Force: 2\n",
      "Evade Wind: 1\n",
      "Growth 2: 1\n",
      "Absorb Strike: 1\n",
      "Regenerate 3: 1\n",
      "Salvation: 2\n",
      "Absorb Pierce: 1\n",
      "Enduring Soul: 1\n",
      "Victory Cry: 1\n",
      "High Counter: 1\n",
      "Morning Star: 1\n",
      "Absorb Slash: 1\n"
     ]
    }
   ],
   "source": [
    "# Open the file\n",
    "with open('skills.txt', 'r') as f:\n",
    "    lines = f.readlines()\n",
    "\n",
    "# Remove newline characters and ignore lines starting with '#' or blank lines\n",
    "lines = [line.strip() for line in lines if line.strip() and not line.startswith('#')]\n",
    "\n",
    "# Count the occurrences of each line\n",
    "line_counts = {}\n",
    "for line in lines:\n",
    "    if line in line_counts:\n",
    "        line_counts[line] += 1\n",
    "    else:\n",
    "        line_counts[line] = 1\n",
    "\n",
    "# Print the counts\n",
    "for line, count in line_counts.items():\n",
    "    print(f\"{line}: {count}\")"
   ]
  },
  {
   "cell_type": "code",
   "execution_count": 3,
   "metadata": {},
   "outputs": [],
   "source": [
    "# Open the file\n",
    "with open('skills.txt', 'r') as f:\n",
    "    lines = f.readlines()\n",
    "\n",
    "# Remove newline characters and ignore lines starting with '#' or blank lines\n",
    "lines = [line.strip() for line in lines if line.strip() and not line.startswith('#')]\n",
    "\n",
    "# Get the unique lines\n",
    "unique_lines = set(lines)\n",
    "\n",
    "# Write the unique lines to a new file\n",
    "with open('skills_dict.txt', 'w') as f:\n",
    "    for line in unique_lines:\n",
    "        f.write(line + '\\n')"
   ]
  }
 ],
 "metadata": {
  "kernelspec": {
   "display_name": "Python 3",
   "language": "python",
   "name": "python3"
  },
  "language_info": {
   "codemirror_mode": {
    "name": "ipython",
    "version": 3
   },
   "file_extension": ".py",
   "mimetype": "text/x-python",
   "name": "python",
   "nbconvert_exporter": "python",
   "pygments_lexer": "ipython3",
   "version": "3.10.8"
  }
 },
 "nbformat": 4,
 "nbformat_minor": 2
}
