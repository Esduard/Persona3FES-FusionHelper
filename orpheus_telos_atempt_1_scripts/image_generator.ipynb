{
 "cells": [
  {
   "cell_type": "code",
   "execution_count": 2,
   "metadata": {},
   "outputs": [],
   "source": [
    "import pyautogui\n",
    "import os\n",
    "import time\n",
    "\n",
    "# Specify the directory where you want to save the screenshot\n",
    "directory = r\"C:\\Users\\Eduardo\\Pictures\\Screenshots\\persona3ChiYou\"\n",
    "\n",
    "# Ensure the directory exists\n",
    "os.makedirs(directory, exist_ok=True)\n",
    "\n",
    "# Capture the screenshot\n",
    "screenshot = pyautogui.screenshot()\n",
    "\n",
    "# Save the screenshot to the specified directory\n",
    "screenshot.save(os.path.join(directory, \"screenshot.png\"))"
   ]
  },
  {
   "cell_type": "code",
   "execution_count": 28,
   "metadata": {},
   "outputs": [],
   "source": [
    "def timer(seconds):\n",
    "    # Start a 5-second timer\n",
    "    for i in range(seconds, 0, -1):\n",
    "        print(f\"Remaining: {i} seconds\")\n",
    "        time.sleep(1)\n",
    "\n",
    "def screenshot(id):\n",
    "    # Specify the directory where you want to save the screenshot\n",
    "    directory = r\"C:\\Users\\Eduardo\\Pictures\\Screenshots\\persona3ChiYou\"\n",
    "\n",
    "    # Ensure the directory exists\n",
    "    os.makedirs(directory, exist_ok=True)\n",
    "\n",
    "    # Capture the screenshot\n",
    "    screenshot = pyautogui.screenshot()\n",
    "\n",
    "    # Save the screenshot to the specified directory\n",
    "    screenshot.save(os.path.join(directory, f\"{id}.png\"))\n",
    "\n",
    "import pydirectinput\n",
    "import time\n",
    "\n",
    "def changeTelos():\n",
    "    # Press the 'l' key\n",
    "    pydirectinput.press('l')\n",
    "    print('l key pressed')\n",
    "\n",
    "\n",
    "    # Press the 'm' key\n",
    "    pydirectinput.press('m')\n",
    "    print('m key pressed')\n",
    "\n",
    "def changeChiYou():\n",
    "    pydirectinput.press('f3')\n",
    "\n",
    "    pydirectinput.press('m')\n",
    "    \n",
    "    for i in range(4):\n",
    "        # Press the 'l' key\n",
    "        pydirectinput.press('w')\n",
    "        print('w key pressed')\n",
    "    \n",
    "    pydirectinput.press('m')\n",
    "\n",
    "    for i in range(3):\n",
    "        # Press the 'l' key\n",
    "        pydirectinput.press('w')\n",
    "        print('w key pressed')\n",
    "    # Press the 'm' key\n",
    "    pydirectinput.press('m')\n",
    "    time.sleep(0.3)\n",
    "    \n"
   ]
  },
  {
   "cell_type": "code",
   "execution_count": 4,
   "metadata": {},
   "outputs": [
    {
     "name": "stdout",
     "output_type": "stream",
     "text": [
      "['\\t', '\\n', '\\r', ' ', '!', '\"', '#', '$', '%', '&', \"'\", '(', ')', '*', '+', ',', '-', '.', '/', '0', '1', '2', '3', '4', '5', '6', '7', '8', '9', ':', ';', '<', '=', '>', '?', '@', '[', '\\\\', ']', '^', '_', '`', 'a', 'b', 'c', 'd', 'e', 'f', 'g', 'h', 'i', 'j', 'k', 'l', 'm', 'n', 'o', 'p', 'q', 'r', 's', 't', 'u', 'v', 'w', 'x', 'y', 'z', '{', '|', '}', '~', 'accept', 'add', 'alt', 'altleft', 'altright', 'apps', 'backspace', 'browserback', 'browserfavorites', 'browserforward', 'browserhome', 'browserrefresh', 'browsersearch', 'browserstop', 'capslock', 'clear', 'convert', 'ctrl', 'ctrlleft', 'ctrlright', 'decimal', 'del', 'delete', 'divide', 'down', 'end', 'enter', 'esc', 'escape', 'execute', 'f1', 'f10', 'f11', 'f12', 'f13', 'f14', 'f15', 'f16', 'f17', 'f18', 'f19', 'f2', 'f20', 'f21', 'f22', 'f23', 'f24', 'f3', 'f4', 'f5', 'f6', 'f7', 'f8', 'f9', 'final', 'fn', 'hanguel', 'hangul', 'hanja', 'help', 'home', 'insert', 'junja', 'kana', 'kanji', 'launchapp1', 'launchapp2', 'launchmail', 'launchmediaselect', 'left', 'modechange', 'multiply', 'nexttrack', 'nonconvert', 'num0', 'num1', 'num2', 'num3', 'num4', 'num5', 'num6', 'num7', 'num8', 'num9', 'numlock', 'pagedown', 'pageup', 'pause', 'pgdn', 'pgup', 'playpause', 'prevtrack', 'print', 'printscreen', 'prntscrn', 'prtsc', 'prtscr', 'return', 'right', 'scrolllock', 'select', 'separator', 'shift', 'shiftleft', 'shiftright', 'sleep', 'space', 'stop', 'subtract', 'tab', 'up', 'volumedown', 'volumemute', 'volumeup', 'win', 'winleft', 'winright', 'yen', 'command', 'option', 'optionleft', 'optionright']\n"
     ]
    }
   ],
   "source": [
    "import pyautogui\n",
    "\n",
    "print(pyautogui.KEYBOARD_KEYS)"
   ]
  },
  {
   "cell_type": "code",
   "execution_count": 5,
   "metadata": {},
   "outputs": [],
   "source": [
    "import pygetwindow as gw\n",
    "\n"
   ]
  },
  {
   "cell_type": "code",
   "execution_count": 6,
   "metadata": {},
   "outputs": [
    {
     "name": "stdout",
     "output_type": "stream",
     "text": [
      "\n",
      "● image_generator.ipynb - AutoTelos - Visual Studio Code\n",
      "Shin Megami Tensei - Persona 3 FES\n",
      "WhatsApp - Brave\n",
      "Photos\n",
      "\n",
      "fusion_charter\n",
      "407.png ‎- Photos\n",
      "persona3ChiYou\n",
      "\n",
      "Media Player\n",
      "Media Player\n",
      "Switch USB\n",
      "Configurações\n",
      "Configurações\n",
      "\n",
      "\n",
      "\n",
      "\n",
      "Microsoft Text Input Application\n",
      "\n",
      "\n",
      "Program Manager\n"
     ]
    }
   ],
   "source": [
    "def list_window_titles():\n",
    "    # Get a list of all window titles\n",
    "    titles = gw.getAllTitles()\n",
    "\n",
    "    # Print each title\n",
    "    for title in titles:\n",
    "        print(title)\n",
    "\n",
    "list_window_titles()"
   ]
  },
  {
   "cell_type": "code",
   "execution_count": 7,
   "metadata": {},
   "outputs": [
    {
     "name": "stdout",
     "output_type": "stream",
     "text": [
      "A window with the title 'Shin Megami Tensei - Persona 3 FES' exists.\n"
     ]
    }
   ],
   "source": [
    "def window_exists(title):\n",
    "    # Get a list of all window titles\n",
    "    titles = gw.getAllTitles()\n",
    "\n",
    "    # Check if the title is in the list\n",
    "    if title in titles:\n",
    "        print(f\"A window with the title '{title}' exists.\")\n",
    "    else:\n",
    "        print(f\"No window with the title '{title}' exists.\")\n",
    "\n",
    "window_exists('Shin Megami Tensei - Persona 3 FES')"
   ]
  },
  {
   "cell_type": "code",
   "execution_count": 30,
   "metadata": {},
   "outputs": [
    {
     "name": "stdout",
     "output_type": "stream",
     "text": [
      "Remaining: 5 seconds\n",
      "Remaining: 4 seconds\n",
      "Remaining: 3 seconds\n",
      "Remaining: 2 seconds\n",
      "Remaining: 1 seconds\n",
      "The current mouse coordinates are: X=210, Y=41\n"
     ]
    }
   ],
   "source": [
    "def print_mouse_coordinates():\n",
    "    # Get the current mouse coordinates\n",
    "    x, y = pyautogui.position()\n",
    "\n",
    "    # Print the coordinates\n",
    "    print(f\"The current mouse coordinates are: X={x}, Y={y}\")\n",
    "\n",
    "timer(5)\n",
    "print_mouse_coordinates()"
   ]
  },
  {
   "cell_type": "markdown",
   "metadata": {},
   "source": [
    "i = 0\n",
    "timer(10)\n",
    "while i < 10000:\n",
    "    screenshot(i)\n",
    "    # press 'f4' key \n",
    "    changeChiYou()\n",
    "    i=i+1"
   ]
  },
  {
   "cell_type": "code",
   "execution_count": 30,
   "metadata": {},
   "outputs": [
    {
     "name": "stdout",
     "output_type": "stream",
     "text": [
      "8924\n"
     ]
    }
   ],
   "source": [
    "print(i)"
   ]
  }
 ],
 "metadata": {
  "kernelspec": {
   "display_name": "base",
   "language": "python",
   "name": "python3"
  },
  "language_info": {
   "codemirror_mode": {
    "name": "ipython",
    "version": 3
   },
   "file_extension": ".py",
   "mimetype": "text/x-python",
   "name": "python",
   "nbconvert_exporter": "python",
   "pygments_lexer": "ipython3",
   "version": "3.10.8"
  },
  "orig_nbformat": 4
 },
 "nbformat": 4,
 "nbformat_minor": 2
}
