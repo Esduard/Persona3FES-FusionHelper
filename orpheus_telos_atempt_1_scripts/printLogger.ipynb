{
 "cells": [
  {
   "cell_type": "code",
   "execution_count": 5,
   "metadata": {},
   "outputs": [
    {
     "name": "stdout",
     "output_type": "stream",
     "text": [
      "the dice rolled 48359 times in the file.\n"
     ]
    }
   ],
   "source": [
    "# Open the file in read mode\n",
    "with open(r'C:\\Users\\Eduardo\\Documents\\Projects\\AutoTelos\\original_save\\predictions.log', 'r') as file:\n",
    "    # Read the contents of the file\n",
    "    contents = file.read()\n",
    "\n",
    "# Count the occurrences of 'INFO:root'\n",
    "count = contents.count('[')\n",
    "\n",
    "print(f\"the dice rolled {count} times in the file.\")"
   ]
  }
 ],
 "metadata": {
  "kernelspec": {
   "display_name": "Python 3",
   "language": "python",
   "name": "python3"
  },
  "language_info": {
   "codemirror_mode": {
    "name": "ipython",
    "version": 3
   },
   "file_extension": ".py",
   "mimetype": "text/x-python",
   "name": "python",
   "nbconvert_exporter": "python",
   "pygments_lexer": "ipython3",
   "version": "3.10.8"
  }
 },
 "nbformat": 4,
 "nbformat_minor": 2
}
