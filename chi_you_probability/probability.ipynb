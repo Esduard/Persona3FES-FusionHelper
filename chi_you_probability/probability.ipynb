{
 "cells": [
  {
   "cell_type": "code",
   "execution_count": 2,
   "metadata": {},
   "outputs": [],
   "source": [
    "import pandas as pd\n",
    "\n",
    "\n",
    "df = pd.read_csv(\"/home/eduardo/Documents/Persona3/AutoTelos/skills_list/skills.csv\")\n",
    "\n",
    "\n",
    "skill_type_dict = df.set_index('skill')['type'].to_dict()\n",
    "\n",
    "# given a skill name return the skill type\n",
    "def get_skill_type(skill_name):\n",
    "    return skill_type_dict[skill_name]\n",
    "\n",
    "# load '/home/eduardo/Documents/Persona3/AutoTelos/inheritance_calculator/inheritance.csv' into a dataframe\n",
    "inheritance_df = pd.read_csv('/home/eduardo/Documents/Persona3/AutoTelos/inheritance_calculator/inheritance.csv')\n",
    "# load '/home/eduardo/Documents/Persona3/AutoTelos/inheritance_calculator/personas_inheritance.csv' into a dataframe\n",
    "persona_inheritance_df = pd.read_csv('/home/eduardo/Documents/Persona3/AutoTelos/inheritance_calculator/personas_inheritance.csv')\n",
    "\n",
    "def get_persona_inheritance_type(persona_name):\n",
    "    return persona_inheritance_df.loc[persona_inheritance_df['Persona'] == persona_name, 'Type'].iloc[0]\n",
    "\n",
    "\n",
    "\n",
    "# Convert the DataFrame to a dictionary where each key is an inheritance type\n",
    "# and its value is another dictionary of skill types and their probabilities.\n",
    "inheritance_dict = inheritance_df.set_index('Inheritance Type').T.to_dict('dict')\n",
    "\n",
    "\n",
    "\n",
    "# given a skill type return the skill inheritance probability for a given persona type\n",
    "def get_inheritance_probability(skill_type, persona_inheritance_type):\n",
    "    # Access the nested dictionary directly for the value\n",
    "    # Check if the persona_inheritance_type exists to avoid KeyErrors\n",
    "    if persona_inheritance_type in inheritance_dict:\n",
    "        # Return the probability value for the given skill_type and persona_inheritance_type\n",
    "        return inheritance_dict[persona_inheritance_type].get(skill_type, 0)  # Returns 0 if skill_type is not found\n",
    "\n",
    "mandatory_skills = [\n",
    "'High Counter',\n",
    "'Unshaken Will',\n",
    "'Panta Rhei',\n",
    "]\n",
    "\n",
    "optional_skills = [\n",
    "'Wind Boost',\n",
    "'Wind Amp',\n",
    "'Spell Master',\n",
    "'Mind Charge',\n",
    "'Salvation',\n",
    "]\n",
    "\n",
    "desired_skills = mandatory_skills + optional_skills\n",
    "\n",
    "def create_desired_skills_probability_dict(desired_skills):\n",
    "    desired_skills_probability_dict = {}\n",
    "    for s in desired_skills:\n",
    "        skill_type = get_skill_type(s)\n",
    "        desired_skills_probability_dict[s] = get_inheritance_probability(skill_type, persona_inherit_type)\n",
    "    return desired_skills_probability_dict\n",
    "\n"
   ]
  },
  {
   "cell_type": "code",
   "execution_count": null,
   "metadata": {},
   "outputs": [],
   "source": [
    "dict_count = {'Wind Boost': 1834, 'Mind Charge': 226, 'Spell Master': 504, 'Wind Amp': 1035, 'Salvation': 101, 'High Counter': 957}\n",
    "\n",
    "\n",
    "dict_prob = {'Wind Boost': 1.0, 'Mind Charge': 0.2, 'Spell Master': 1.0, 'Wind Amp': 1.0, 'Salvation': 0.2, 'High Counter': 1.0}\n",
    "\n",
    "dict_rank = {'Wind Boost': 2.5, 'Mind Charge': 5.0, 'Spell Master': 9.0, 'Wind Amp': 4.0, 'Salvation': 9.0, 'High Counter': 5.0}"
   ]
  }
 ],
 "metadata": {
  "kernelspec": {
   "display_name": "Python 3",
   "language": "python",
   "name": "python3"
  },
  "language_info": {
   "codemirror_mode": {
    "name": "ipython",
    "version": 3
   },
   "file_extension": ".py",
   "mimetype": "text/x-python",
   "name": "python",
   "nbconvert_exporter": "python",
   "pygments_lexer": "ipython3",
   "version": "3.10.12"
  }
 },
 "nbformat": 4,
 "nbformat_minor": 2
}
