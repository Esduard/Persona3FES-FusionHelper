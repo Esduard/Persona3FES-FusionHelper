{
 "cells": [
  {
   "cell_type": "code",
   "execution_count": 1,
   "metadata": {},
   "outputs": [
    {
     "name": "stdout",
     "output_type": "stream",
     "text": [
      "             skill                                           learners\n",
      "0           Cleave     Hermes, Nekomata, Chimera, Archangel, Valkyrie\n",
      "1      Power Slash                      Valkyrie (15), Gurr, Rakshasa\n",
      "2         Getsu-ei  Rakshasa (18), Ares (24), Take-Mikazuchi (27),...\n",
      "3           Zan-ei  Oberon (18), Ares, Titan, Pale Rider, Power (2...\n",
      "4       Gale Slash   Rakshasa (22), Ghoul (23), Shiisaa, Flauros, Ose\n",
      "..             ...                                                ...\n",
      "257  Full Analysis                                              Lucia\n",
      "258   Healing Wave                                         Lucia (41)\n",
      "259         Oracle                                         Lucia (50)\n",
      "260   Support Scan                                         Lucia (23)\n",
      "261      Third Eye                                         Lucia (32)\n",
      "\n",
      "[262 rows x 2 columns]\n"
     ]
    }
   ],
   "source": [
    "import re\n",
    "from bs4 import BeautifulSoup\n",
    "import pandas as pd\n",
    "\n",
    "# Load the HTML content\n",
    "with open('skill_list.html', 'r') as f:\n",
    "    html_content = f.read()\n",
    "\n",
    "# Parse the HTML\n",
    "soup = BeautifulSoup(html_content, 'html.parser')\n",
    "\n",
    "# Find all \"tr\" elements with class=\"app-smt-skill-list-row\"\n",
    "rows = soup.find_all('tr', class_='app-smt-skill-list-row')\n",
    "\n",
    "# Prepare a list to hold the data\n",
    "data = []\n",
    "\n",
    "# Loop through each row\n",
    "for row in rows:\n",
    "    # Get the skill name\n",
    "    skill = row.find_all('td')[1].text\n",
    "\n",
    "    # Initialize an empty list for learners with levels\n",
    "    learners_with_levels = []\n",
    "    skip_row = False  # Flag to indicate whether to skip adding the current row to the dataset\n",
    "\n",
    "    # Iterate through each 'li' element in the row\n",
    "    for li in row.find_all('li'):\n",
    "        # Extract the learner's name\n",
    "        learner_name = li.find('a').text if li.find('a') else None\n",
    "        \n",
    "        # Extract the text after the learner's name to check for levels or 'Fs'\n",
    "        text_after_a = li.get_text(strip=True)[len(learner_name):] if learner_name else ''\n",
    "        level_match = re.search(r'\\((\\d+|Fs)\\)', text_after_a)\n",
    "\n",
    "        # Check if 'Fs' or any non-numeric value is found\n",
    "        if level_match and level_match.group(1) == 'Fs':\n",
    "            skip_row = True  # Set the flag to skip this row\n",
    "            break  # No need to continue processing this row\n",
    "        else:\n",
    "            level = level_match.group(1) if level_match else None\n",
    "\n",
    "        # Append the learner name with level if available\n",
    "        learner_with_level = f\"{learner_name} ({level})\" if level else learner_name\n",
    "        learners_with_levels.append(learner_with_level)\n",
    "\n",
    "    # If the skip_row flag is set, continue to the next row without adding this one to the dataset\n",
    "    if skip_row:\n",
    "        continue\n",
    "\n",
    "    # Add the data to the list\n",
    "    data.append({'skill': skill, 'learners': ', '.join(learners_with_levels)})\n",
    "\n",
    "# Create a pandas DataFrame\n",
    "df = pd.DataFrame(data)\n",
    "\n",
    "# Print the DataFrame\n",
    "print(df)\n"
   ]
  },
  {
   "cell_type": "code",
   "execution_count": 3,
   "metadata": {},
   "outputs": [
    {
     "name": "stdout",
     "output_type": "stream",
     "text": [
      "         skill                       learners\n",
      "1  Power Slash  Valkyrie (15), Gurr, Rakshasa\n"
     ]
    }
   ],
   "source": [
    "# Find the skill \"Panta Rhei\"\n",
    "panta_rhei = df.loc[df['skill'] == 'Power Slash']\n",
    "\n",
    "# Print the result\n",
    "print(panta_rhei)"
   ]
  },
  {
   "cell_type": "code",
   "execution_count": null,
   "metadata": {},
   "outputs": [],
   "source": [
    "df.to_csv('skills_with_levels.csv', index=False)"
   ]
  }
 ],
 "metadata": {
  "kernelspec": {
   "display_name": "Python 3",
   "language": "python",
   "name": "python3"
  },
  "language_info": {
   "codemirror_mode": {
    "name": "ipython",
    "version": 3
   },
   "file_extension": ".py",
   "mimetype": "text/x-python",
   "name": "python",
   "nbconvert_exporter": "python",
   "pygments_lexer": "ipython3",
   "version": "3.10.12"
  }
 },
 "nbformat": 4,
 "nbformat_minor": 2
}
