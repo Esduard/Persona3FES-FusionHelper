{
 "cells": [
  {
   "cell_type": "code",
   "execution_count": 23,
   "metadata": {},
   "outputs": [
    {
     "name": "stdout",
     "output_type": "stream",
     "text": [
      "['Cleave', 'Power Slash', 'Getsu-ei', 'Zan-ei', 'Gale Slash', 'Mighty Swing', 'Fatal End', 'Blade of Fury', 'Deathbound', \"Heaven's Blade\", 'Tempest Slash', 'Brave Blade', 'Scarlet Havoc', 'Vorpal Blade', 'Bash', 'Assault Dive', 'Sonic Punch', 'Swift Strike', 'Kill Rush', 'Herculean Strike', 'Gigantic Fist', 'Heat Wave', 'Vicious Strike', 'Akasha Arts', \"God's Hand\", 'Shadow Hound', 'Weary Thrust', 'Single Shot', 'Double Fangs', 'Holy Arrow', 'Twin Shot', 'Cruel Attack', 'Torrent Shot', 'Vile Assault', 'Poison Arrow', 'Arrow Rain', 'Myriad Arrows', 'Pralaya', 'Primal Force', 'Agi', 'Maragi', 'Agilao', 'Maragion', 'Agidyne', 'Maragidyne', 'Ragnarok', 'Ardhanari', 'Maralagidyne', 'Bufu', 'Mabufu', 'Bufula', 'Mabufula', 'Bufudyne', 'Mabufudyne', 'Niflheim', 'King and I', 'Zio', 'Mazio', 'Zionga', 'Mazionga', 'Ziodyne', 'Maziodyne', 'Thunder Reign', 'Thunder Call', 'Garu', 'Magaru', 'Garula', 'Magarula', 'Garudyne', 'Magarudyne', 'Panta Rhei', 'Hama', 'Mahama', 'Hamaon', 'Mahamaon', 'Samsara', 'Justice', 'Mudo', 'Mamudo', 'Mudoon', 'Mamudoon', 'Die for Me!', 'Foul Breath', 'Life Drain', 'Stagnant Air', 'Spirit Drain', 'Megido', 'Megidola', 'Megidolaon', 'Black Viper', 'Morning Star', 'Armageddon', 'Jack Brothers', 'Last Judge', 'Raktapaksha', 'Bewilder', 'Poisma', 'Eerie Sound', 'Marin Karin', 'Provoke', 'Pulinpa', 'Infuriate', 'Poison Mist', 'Sexy Dance', 'Evil Touch', 'Evil Smile', 'Tentarafoo', 'Virus Breath', 'Ghastly Wail', 'Dreamfest', 'Summer Dream', 'Trickster', 'Patra', 'Charmdi', 'Enradi', 'Posumudi', 'Re Patra', 'Dia', 'Me Patra', 'Media', 'Diarama', 'Recarm', 'Mediarama', 'Samarecarm', 'Diarahan', 'Amrita', 'Mediarahan', 'Salvation', 'Cadenza', 'Frolic', 'Rakukaja', 'Rakunda', 'Rebellion', 'Sukukaja', 'Sukunda', 'Tarukaja', 'Tarunda', 'Dekunda', 'Revolution', 'Elec Break', 'Fire Break', 'Ice Break', 'Marakunda', 'Masukunda', 'Matarunda', 'Power Charge', 'Wind Break', 'Dekaja', 'Marakukaja', 'Masukukaja', 'Matarukaja', 'Mind Charge', 'Makarakarn', 'Tetrakarn', 'Best Friends', 'Infinity', 'Valhalla', 'Recarmdra', 'Trafuri', 'Raging Tiger', 'Elec Boost', 'Fire Boost', 'Growth 1', 'Ice Boost', 'Wind Boost', 'Charm Boost', 'Distress Boost', 'Fear Boost', 'Panic Boost', 'Poison Boost', 'Rage Boost', 'Sharp Student', 'Counter', 'Dodge Elec', 'Dodge Fire', 'Dodge Ice', 'Dodge Pierce', 'Dodge Slash', 'Dodge Strike', 'Dodge Wind', 'Growth 2', 'Cool Breeze', 'Elec Amp', 'Evade Elec', 'Evade Fire', 'Evade Ice', 'Evade Wind', 'Fast Retreat', 'Fire Amp', 'Growth 3', 'Hama Boost', 'Ice Amp', 'Mudo Boost', 'Survive Dark', 'Survive Light', 'Wind Amp', 'Counterstrike', 'Invigorate 1', 'Regenerate 1', 'Resist Dark', 'Resist Elec', 'Resist Fire', 'Resist Ice', 'Resist Light', 'Resist Wind', 'Alertness', 'Apt Pupil', 'Endure Dark', 'Endure Light', 'Evade Pierce', 'Evade Slash', 'Evade Strike', 'High Counter', 'Null Charm', 'Null Distress', 'Null Fear', 'Null Freeze', 'Null Panic', 'Null Poison', 'Null Rage', 'Null Shock', 'Spring of Life', 'Invigorate 2', 'Null Dark', 'Null Elec', 'Null Fire', 'Null Ice', 'Null Light', 'Null Wind', 'Regenerate 2', 'Resist Pierce', 'Resist Slash', 'Resist Strike', '1hSwd Master', '2hSwd Master', 'Auto-Maraku', 'Auto-Masuku', 'Auto-Mataru', 'Auto-Rakukaja', 'Auto-Sukukaja', 'Auto-Tarukaja', 'Bow Master', 'Endure', 'Fist Master', 'Heavy Master', 'Invigorate 3', 'Regenerate 3', 'Repel Dark', 'Repel Light', 'Spear Master', 'Null Pierce', 'Null Slash', 'Null Strike', 'Repel Elec', 'Repel Fire', 'Repel Ice', 'Repel Wind', 'Absorb Elec', 'Absorb Fire', 'Absorb Ice', 'Absorb Wind', 'Ailment Boost', 'Divine Grace', 'Repel Pierce', 'Repel Slash', 'Repel Strike', 'Absorb Pierce', 'Absorb Slash', 'Absorb Strike', 'Arms Master', 'Enduring Soul', 'Spell Master', 'Unshaken Will', 'Victory Cry', 'Escape Route', 'Full Analysis', 'Healing Wave', 'Oracle', 'Support Scan', 'Third Eye']\n",
      "[' ', '!', \"'\", '-', '1', '2', '3', 'A', 'B', 'C', 'D', 'E', 'F', 'G', 'H', 'I', 'J', 'K', 'L', 'M', 'N', 'O', 'P', 'R', 'S', 'T', 'U', 'V', 'W', 'Z', 'a', 'b', 'c', 'd', 'e', 'f', 'g', 'h', 'i', 'j', 'k', 'l', 'm', 'n', 'o', 'p', 'r', 's', 't', 'u', 'v', 'w', 'x', 'y', 'z']\n"
     ]
    }
   ],
   "source": [
    "import pandas as pd\n",
    "\n",
    "df_skills = pd.read_csv(\"/home/eduardo/Documents/Persona3/AutoTelos/skills_list/skills.csv\")\n",
    "\n",
    "# make a list of all the elemnts in the column 'skill'\n",
    "\n",
    "skill_list = df_skills['skill'].tolist()\n",
    "\n",
    "print(skill_list)\n",
    "\n",
    "# iterate by the list and list all the unique characters used in all entries\n",
    "\n",
    "unique_chars = []\n",
    "for skill in skill_list:\n",
    "    for char in skill:\n",
    "        if char not in unique_chars:\n",
    "            unique_chars.append(char)\n",
    "\n",
    "unique_chars.sort()\n",
    "print(unique_chars)\n"
   ]
  },
  {
   "cell_type": "code",
   "execution_count": 24,
   "metadata": {},
   "outputs": [
    {
     "data": {
      "text/html": [
       "<div>\n",
       "<style scoped>\n",
       "    .dataframe tbody tr th:only-of-type {\n",
       "        vertical-align: middle;\n",
       "    }\n",
       "\n",
       "    .dataframe tbody tr th {\n",
       "        vertical-align: top;\n",
       "    }\n",
       "\n",
       "    .dataframe thead th {\n",
       "        text-align: right;\n",
       "    }\n",
       "</style>\n",
       "<table border=\"1\" class=\"dataframe\">\n",
       "  <thead>\n",
       "    <tr style=\"text-align: right;\">\n",
       "      <th></th>\n",
       "      <th>skill</th>\n",
       "      <th>rank</th>\n",
       "    </tr>\n",
       "  </thead>\n",
       "  <tbody>\n",
       "    <tr>\n",
       "      <th>0</th>\n",
       "      <td>Cleave</td>\n",
       "      <td>1</td>\n",
       "    </tr>\n",
       "    <tr>\n",
       "      <th>1</th>\n",
       "      <td>Power Slash</td>\n",
       "      <td>2</td>\n",
       "    </tr>\n",
       "    <tr>\n",
       "      <th>2</th>\n",
       "      <td>Getsu-ei</td>\n",
       "      <td>3</td>\n",
       "    </tr>\n",
       "    <tr>\n",
       "      <th>3</th>\n",
       "      <td>Zan-ei</td>\n",
       "      <td>3</td>\n",
       "    </tr>\n",
       "    <tr>\n",
       "      <th>4</th>\n",
       "      <td>Gale Slash</td>\n",
       "      <td>3</td>\n",
       "    </tr>\n",
       "  </tbody>\n",
       "</table>\n",
       "</div>"
      ],
      "text/plain": [
       "         skill rank\n",
       "0       Cleave    1\n",
       "1  Power Slash    2\n",
       "2     Getsu-ei    3\n",
       "3       Zan-ei    3\n",
       "4   Gale Slash    3"
      ]
     },
     "execution_count": 24,
     "metadata": {},
     "output_type": "execute_result"
    }
   ],
   "source": [
    "import pandas as pd\n",
    "import re\n",
    "\n",
    "# open txt file '/home/eduardo/Documents/Persona3/AutoTelos/skills_list/ranks.txt'\n",
    "with open('/home/eduardo/Documents/Persona3/AutoTelos/skills_list/ranks.txt') as f:\n",
    "    text_data = f.read()\n",
    "\n",
    "\n",
    "\n",
    "# Extracting rank and skills\n",
    "rank_skill_pairs = re.findall(r\"\\((\\d+)\\)\\s+([^\\n]+)\", text_data)\n",
    "\n",
    "# Splitting skills and creating the DataFrame\n",
    "data = []\n",
    "for rank, skills in rank_skill_pairs:\n",
    "    individual_skills = skills.split(', ')\n",
    "    for skill in individual_skills:\n",
    "        # Removing any annotations like \"[Vorpal Blade is uninheritable in Fes]\"\n",
    "        skill = re.sub(r\"\\[.*?\\]\", \"\", skill).strip()\n",
    "        data.append({'skill': skill, 'rank': rank})\n",
    "\n",
    "# Create DataFrame\n",
    "df_ranks = pd.DataFrame(data)\n",
    "df_ranks.head()  # Display the first few rows of the DataFrame"
   ]
  },
  {
   "cell_type": "markdown",
   "metadata": {},
   "source": [
    "I have no clue how \"Spring Of Life\" made it into this calculation even though it is Junpei Exclusive, therefore not acessible via fusion"
   ]
  },
  {
   "cell_type": "code",
   "execution_count": 25,
   "metadata": {},
   "outputs": [],
   "source": [
    "correct = {\n",
    "    \"Heavenly Blade\": \"Heaven's Blade\",\n",
    "    \"Die For Me!\" : \"Die for Me!\",\n",
    "    \"Ghastly Whail\" : \"Ghastly Wail\",\n",
    "    \"Awareness\" : \"Alertness\",\n",
    "    \"1hd Sword Master\" : \"1hSwd Master\",\n",
    "    \"2hd Sword Master\" : \"2hSwd Master\",\n",
    "}\n",
    "\n",
    "# Replace the incorrect skill names with the correct ones\n",
    "df_ranks['skill'] = df_ranks['skill'].replace(correct)\n",
    "\n",
    "remove = [\n",
    "    \"Spring of Life\"\n",
    "]\n",
    "\n",
    "# Remove the skills that have their names in the 'remove' list\n",
    "df_ranks = df_ranks[~df_ranks['skill'].isin(remove)]"
   ]
  },
  {
   "cell_type": "code",
   "execution_count": 26,
   "metadata": {},
   "outputs": [],
   "source": [
    "# save 'df_ranks' as csv file\n",
    "df_ranks.to_csv('/home/eduardo/Documents/Persona3/AutoTelos/skills_list/ranks.csv', index=False)"
   ]
  },
  {
   "cell_type": "code",
   "execution_count": 28,
   "metadata": {},
   "outputs": [
    {
     "data": {
      "text/html": [
       "<div>\n",
       "<style scoped>\n",
       "    .dataframe tbody tr th:only-of-type {\n",
       "        vertical-align: middle;\n",
       "    }\n",
       "\n",
       "    .dataframe tbody tr th {\n",
       "        vertical-align: top;\n",
       "    }\n",
       "\n",
       "    .dataframe thead th {\n",
       "        text-align: right;\n",
       "    }\n",
       "</style>\n",
       "<table border=\"1\" class=\"dataframe\">\n",
       "  <thead>\n",
       "    <tr style=\"text-align: right;\">\n",
       "      <th></th>\n",
       "      <th>skill</th>\n",
       "      <th>rank</th>\n",
       "    </tr>\n",
       "  </thead>\n",
       "  <tbody>\n",
       "  </tbody>\n",
       "</table>\n",
       "</div>"
      ],
      "text/plain": [
       "Empty DataFrame\n",
       "Columns: [skill, rank]\n",
       "Index: []"
      ]
     },
     "execution_count": 28,
     "metadata": {},
     "output_type": "execute_result"
    }
   ],
   "source": [
    "# Find entries in df1 not in df2\n",
    "unique_to_df1 = df_skills[~df_skills['skill'].isin(df_ranks['skill'])]\n",
    "\n",
    "# Find entries in df2 not in df1\n",
    "unique_to_df2 = df_ranks[~df_ranks['skill'].isin(df_skills['skill'])]\n",
    "\n",
    "# Display the unique entries that dont have rank == 99.0\n",
    "unique_to_df2[unique_to_df2['rank'] != 99.0]"
   ]
  },
  {
   "cell_type": "code",
   "execution_count": null,
   "metadata": {},
   "outputs": [],
   "source": []
  }
 ],
 "metadata": {
  "kernelspec": {
   "display_name": "Python 3",
   "language": "python",
   "name": "python3"
  },
  "language_info": {
   "codemirror_mode": {
    "name": "ipython",
    "version": 3
   },
   "file_extension": ".py",
   "mimetype": "text/x-python",
   "name": "python",
   "nbconvert_exporter": "python",
   "pygments_lexer": "ipython3",
   "version": "3.10.12"
  }
 },
 "nbformat": 4,
 "nbformat_minor": 2
}
